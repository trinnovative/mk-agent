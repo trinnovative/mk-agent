{
 "cells": [
  {
   "cell_type": "code",
   "execution_count": 1,
   "outputs": [],
   "source": [
    "import datetime\n",
    "import os\n",
    "from dotenv import load_dotenv\n",
    "\n",
    "load_dotenv()\n",
    "os.environ[\"OPENAI_API_KEY\"] = os.getenv(\"OPENAI_API_KEY\")"
   ],
   "metadata": {
    "collapsed": false,
    "ExecuteTime": {
     "end_time": "2023-12-01T13:11:44.074219300Z",
     "start_time": "2023-12-01T13:11:44.053312400Z"
    }
   },
   "id": "af6a1b4b9056f760"
  },
  {
   "cell_type": "markdown",
   "source": [
    "# OpenAI function with LangChain"
   ],
   "metadata": {
    "collapsed": false
   },
   "id": "a0746556627ee522"
  },
  {
   "cell_type": "code",
   "execution_count": 2,
   "outputs": [],
   "source": [
    "import json\n",
    "\n",
    "# Example dummy function hard coded to return the same weather\n",
    "# In production, this could be your backend API or an external API\n",
    "def get_current_weather(location, date, unit=\"celsius\"):\n",
    "    \"\"\"Get the current weather in a given location\"\"\"\n",
    "    weather_info = {\n",
    "        \"location\": location,\n",
    "        \"temperature\": \"-4\",\n",
    "        \"unit\": unit,\n",
    "        \"date\": date,\n",
    "        \"forecast\": [\"snow\", \"windy\"],\n",
    "    }\n",
    "    return json.dumps(weather_info)"
   ],
   "metadata": {
    "collapsed": false,
    "ExecuteTime": {
     "end_time": "2023-12-01T13:11:44.085215Z",
     "start_time": "2023-12-01T13:11:44.074204800Z"
    }
   },
   "id": "3b7fac4b8bd27193"
  },
  {
   "cell_type": "code",
   "execution_count": 3,
   "outputs": [],
   "source": [
    "from langchain.chat_models import ChatOpenAI\n",
    "from langchain.agents import initialize_agent, AgentType\n",
    "from langchain.tools import StructuredTool\n",
    "from pydantic.v1 import BaseModel, Field\n",
    "from enum import Enum\n",
    "from datetime import date\n",
    "\n",
    "llm = ChatOpenAI(model=\"gpt-4-0613\", temperature=0)\n",
    "\n",
    "class TemperatureScale(str, Enum):\n",
    "    CELSIUS = \"celsius\"\n",
    "    FAHRENHEIT = \"fahrenheit\"\n",
    "\n",
    "class WeatherInput(BaseModel):\n",
    "    location: str = Field(description=\"The city\")\n",
    "    date: str = Field( description=\"The date\")\n",
    "    unit: TemperatureScale = Field(default=TemperatureScale.CELSIUS)\n",
    "\n",
    "\n",
    "tools = [\n",
    "    StructuredTool(\n",
    "        name=\"get_current_weather\",\n",
    "        func=get_current_weather,\n",
    "        description=\"Get the current weather in a given city at a given date\",\n",
    "        args_schema=WeatherInput\n",
    "    )\n",
    "]\n",
    "\n",
    "agent_executor = initialize_agent(\n",
    "    tools, \n",
    "    llm, \n",
    "    agent=AgentType.OPENAI_FUNCTIONS, \n",
    "    verbose=True, \n",
    "    max_execution_time=30\n",
    ")"
   ],
   "metadata": {
    "collapsed": false,
    "ExecuteTime": {
     "end_time": "2023-12-01T13:11:51.389770900Z",
     "start_time": "2023-12-01T13:11:44.080217200Z"
    }
   },
   "id": "123013e1d2313ce6"
  },
  {
   "cell_type": "code",
   "execution_count": 4,
   "outputs": [
    {
     "name": "stdout",
     "output_type": "stream",
     "text": [
      "\n",
      "\n",
      "\u001B[1m> Entering new AgentExecutor chain...\u001B[0m\n",
      "\u001B[32;1m\u001B[1;3m\n",
      "Invoking: `get_current_weather` with `{'location': 'Munich', 'date': '2023-12-02'}`\n",
      "\n",
      "\n",
      "\u001B[0m\u001B[36;1m\u001B[1;3m{\"location\": \"Munich\", \"temperature\": \"-4\", \"unit\": \"celsius\", \"date\": \"2023-12-02\", \"forecast\": [\"snow\", \"windy\"]}\u001B[0m\u001B[32;1m\u001B[1;3mGiven the weather forecast for Munich on 2nd December 2023, it's going to be quite cold with a temperature of -4 degrees Celsius and there will be snow and wind. \n",
      "\n",
      "Here are some indoor activities you might enjoy:\n",
      "\n",
      "1. **Visit Museums**: Munich is home to many world-class museums. You could visit the Deutsches Museum, which is the world's largest museum of science and technology, or the Munich Residenz, which is the former royal palace of the Wittelsbach monarchs of Bavaria.\n",
      "\n",
      "2. **Enjoy Bavarian Food**: You could visit a traditional Bavarian restaurant or beer hall, such as the famous Hofbräuhaus, to enjoy some hearty local cuisine.\n",
      "\n",
      "3. **Shopping**: Munich has several large shopping centers, such as the Olympia Einkaufszentrum, where you could do some holiday shopping.\n",
      "\n",
      "4. **Spa Day**: Consider a relaxing day at one of Munich's many spas, such as the Müller'sches Volksbad, which is a beautiful art nouveau building.\n",
      "\n",
      "If you're prepared for the cold and snow, you could also consider some outdoor activities:\n",
      "\n",
      "1. **Christmas Markets**: Munich is famous for its Christmas markets, which should be in full swing on 2nd December. The largest is the Christkindlmarkt in Marienplatz, the city's central square.\n",
      "\n",
      "2. **Ice Skating**: There are several ice rinks in Munich, such as the one at Karlsplatz Stachus, where you could go ice skating.\n",
      "\n",
      "3. **Winter Walks**: Despite the cold, Munich can be very beautiful in the snow. You could take a winter walk in one of the city's many parks, such as the English Garden.\n",
      "\n",
      "Remember to dress warmly and enjoy your holiday in Munich!\u001B[0m\n",
      "\n",
      "\u001B[1m> Finished chain.\u001B[0m\n"
     ]
    },
    {
     "data": {
      "text/plain": "{'input': \"What's your suggestion for holiday activity in Munich at 2nd December 2023?\",\n 'output': \"Given the weather forecast for Munich on 2nd December 2023, it's going to be quite cold with a temperature of -4 degrees Celsius and there will be snow and wind. \\n\\nHere are some indoor activities you might enjoy:\\n\\n1. **Visit Museums**: Munich is home to many world-class museums. You could visit the Deutsches Museum, which is the world's largest museum of science and technology, or the Munich Residenz, which is the former royal palace of the Wittelsbach monarchs of Bavaria.\\n\\n2. **Enjoy Bavarian Food**: You could visit a traditional Bavarian restaurant or beer hall, such as the famous Hofbräuhaus, to enjoy some hearty local cuisine.\\n\\n3. **Shopping**: Munich has several large shopping centers, such as the Olympia Einkaufszentrum, where you could do some holiday shopping.\\n\\n4. **Spa Day**: Consider a relaxing day at one of Munich's many spas, such as the Müller'sches Volksbad, which is a beautiful art nouveau building.\\n\\nIf you're prepared for the cold and snow, you could also consider some outdoor activities:\\n\\n1. **Christmas Markets**: Munich is famous for its Christmas markets, which should be in full swing on 2nd December. The largest is the Christkindlmarkt in Marienplatz, the city's central square.\\n\\n2. **Ice Skating**: There are several ice rinks in Munich, such as the one at Karlsplatz Stachus, where you could go ice skating.\\n\\n3. **Winter Walks**: Despite the cold, Munich can be very beautiful in the snow. You could take a winter walk in one of the city's many parks, such as the English Garden.\\n\\nRemember to dress warmly and enjoy your holiday in Munich!\"}"
     },
     "execution_count": 4,
     "metadata": {},
     "output_type": "execute_result"
    }
   ],
   "source": [
    "agent_executor.invoke(\"What's your suggestion for holiday activity in Munich at 2nd December 2023?\")"
   ],
   "metadata": {
    "collapsed": false,
    "ExecuteTime": {
     "end_time": "2023-12-01T13:12:26.572591200Z",
     "start_time": "2023-12-01T13:11:51.373774200Z"
    }
   },
   "id": "2d4ba39327567774"
  },
  {
   "cell_type": "code",
   "execution_count": 4,
   "outputs": [],
   "source": [],
   "metadata": {
    "collapsed": false,
    "ExecuteTime": {
     "end_time": "2023-12-01T13:12:26.579631700Z",
     "start_time": "2023-12-01T13:12:26.571591900Z"
    }
   },
   "id": "b43283ad5551039a"
  }
 ],
 "metadata": {
  "kernelspec": {
   "display_name": "Python 3",
   "language": "python",
   "name": "python3"
  },
  "language_info": {
   "codemirror_mode": {
    "name": "ipython",
    "version": 2
   },
   "file_extension": ".py",
   "mimetype": "text/x-python",
   "name": "python",
   "nbconvert_exporter": "python",
   "pygments_lexer": "ipython2",
   "version": "2.7.6"
  }
 },
 "nbformat": 4,
 "nbformat_minor": 5
}
