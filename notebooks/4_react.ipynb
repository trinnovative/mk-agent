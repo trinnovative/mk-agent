{
 "cells": [
  {
   "cell_type": "markdown",
   "source": [
    "# ReAct"
   ],
   "metadata": {
    "collapsed": false
   },
   "id": "2982a01e162f13b5"
  },
  {
   "cell_type": "code",
   "execution_count": 1,
   "outputs": [],
   "source": [
    "import os\n",
    "from dotenv import load_dotenv\n",
    "\n",
    "load_dotenv()\n",
    "os.environ[\"OPENAI_API_KEY\"] = os.getenv(\"OPENAI_API_KEY\")"
   ],
   "metadata": {
    "collapsed": false,
    "ExecuteTime": {
     "end_time": "2023-12-01T13:14:36.731615200Z",
     "start_time": "2023-12-01T13:14:36.714158700Z"
    }
   },
   "id": "a572e095a608adec"
  },
  {
   "cell_type": "code",
   "execution_count": 2,
   "outputs": [],
   "source": [
    "from langchain.agents import initialize_agent\n",
    "from langchain.agents import AgentType\n",
    "from langchain.chat_models import ChatOpenAI\n",
    "from langchain.tools import DuckDuckGoSearchRun\n",
    "from langchain.utilities import DuckDuckGoSearchAPIWrapper\n",
    "from langchain_experimental.tools import PythonREPLTool"
   ],
   "metadata": {
    "collapsed": false,
    "ExecuteTime": {
     "end_time": "2023-12-01T13:14:39.430861300Z",
     "start_time": "2023-12-01T13:14:36.730580800Z"
    }
   },
   "id": "185092e96eef97c5"
  },
  {
   "cell_type": "code",
   "execution_count": 3,
   "outputs": [],
   "source": [
    "llm = ChatOpenAI(model=\"gpt-4-0613\")\n",
    "\n",
    "tools = [\n",
    "    DuckDuckGoSearchRun(api_wrapper=DuckDuckGoSearchAPIWrapper(region=\"de-de\")),\n",
    "    PythonREPLTool()\n",
    "]\n",
    "\n",
    "agent_chain = initialize_agent(\n",
    "    tools, \n",
    "    llm, \n",
    "    agent=AgentType.CHAT_ZERO_SHOT_REACT_DESCRIPTION,\n",
    "    verbose=True,\n",
    "    max_execution_time=120\n",
    ")"
   ],
   "metadata": {
    "collapsed": false,
    "ExecuteTime": {
     "end_time": "2023-12-01T13:14:40.186899300Z",
     "start_time": "2023-12-01T13:14:39.433862800Z"
    }
   },
   "id": "d99d6a03744b7cac"
  },
  {
   "cell_type": "code",
   "execution_count": null,
   "outputs": [
    {
     "name": "stdout",
     "output_type": "stream",
     "text": [
      "\n",
      "\n",
      "\u001B[1m> Entering new AgentExecutor chain...\u001B[0m\n",
      "\u001B[32;1m\u001B[1;3mThought: To answer this question, I need to find out when the Oktoberfest 2024 starts. I will use the DuckDuckGo search tool for this. After that, I will calculate the number of days from today to the start of Oktoberfest 2024 using Python.\n",
      "Action:\n",
      "```\n",
      "{\n",
      "  \"action\": \"duckduckgo_search\",\n",
      "  \"action_input\": \"Start date of Oktoberfest 2024\"\n",
      "}\n",
      "```\u001B[0m\n",
      "Observation: \u001B[36;1m\u001B[1;3mDas Oktoberfest 2024 wird vom 21. September (Samstag) bis zum 6. Oktober (Sonntag) 2024 stattfinden. September (Samstag) bis zum 6. Oktober (Sonntag) 2024 stattfinden. Oktober ein Sonntag, wird das Fest bis zum Tag der Deutschen Einheit am 3. Oktober verlängert. Damit dauert das Fest mindestens 16 und höchstens 18 Tage. Wikipedia-Seite Wie viele Tage bis Oktoberfest 2024? Wann ist Oktoberfest 2024 - Countdown der Tage, Minuten und Sekunden bis zum 21. September 2024 Start des Oktoberfests 2024 Am Samstag nach dem 15.9. beginnt das Oktoberfest in München - das größte Volksfest der Welt. Hier erfahren Sie mehr zum Starttermin des Oktoberfests im Jahr 2024. Basic Information You Must Know About Oktoberfest. Oktoberfest dates and hours: Oktoberfest 2024 will be from September 21 to October 6. For your reference, according to the official Oktoberfest website, the opening hours in previous years are as follows: Beer Serving Hours. Opening day: 12.00 noon - 10.30 pm ; Weekdays: 10.00 am ... Oktoberfest 2024. Jump to bottom. Posted by eric.lemings on 06/29/23 11:49 AM. Hello all, I've started doing my research and planning for Oktoberfest 2024. In addition to Munich, I'd like to visit Prague and Vienna (and some points in between such as Fussen, Salzburg, maybe Pilsen).\u001B[0m\n",
      "Thought:"
     ]
    }
   ],
   "source": [
    "agent_chain.invoke(\"Wann beginnt das Oktoberfest 2024? Wie viele Tage sind es bis dahin?\")"
   ],
   "metadata": {
    "collapsed": false,
    "is_executing": true,
    "ExecuteTime": {
     "start_time": "2023-12-01T13:14:40.189899200Z"
    }
   },
   "id": "18776aa5749c5b7d"
  }
 ],
 "metadata": {
  "kernelspec": {
   "display_name": "Python 3",
   "language": "python",
   "name": "python3"
  },
  "language_info": {
   "codemirror_mode": {
    "name": "ipython",
    "version": 2
   },
   "file_extension": ".py",
   "mimetype": "text/x-python",
   "name": "python",
   "nbconvert_exporter": "python",
   "pygments_lexer": "ipython2",
   "version": "2.7.6"
  }
 },
 "nbformat": 4,
 "nbformat_minor": 5
}
